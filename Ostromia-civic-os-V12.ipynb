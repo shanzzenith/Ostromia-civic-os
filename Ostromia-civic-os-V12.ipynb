# =========================================================
#  Ostromia – v1.2.2  (cadCAD 0.5.3, Python 3.10+)
# =========================================================
!pip install --quiet cadCAD==0.5.3 dill==0.3.7 pandas matplotlib

import random, math, pandas as pd, matplotlib.pyplot as plt
from collections import deque
from cadCAD.configuration        import Configuration
from cadCAD.configuration.utils  import config_sim
from cadCAD.engine               import ExecutionMode, ExecutionContext, Executor

# ---------- CONSTANTS ----------
NUM_CITIZENS   = 10
SIM_DAYS       = 7
MAX_ACTIONS    = 5
A, B           = 0.10, 1.0          # bonding-curve: price = A*supply + B
HALF_LIFE_DAYS = 5                  # 50 % decay every 5 days
GOLD_THRESHOLD = 100                # gold tier if pts > 100

# ---------- INITIAL STATE ----------
initial_state = {
    "citizens": {f"c_{i}": {"pts": 0} for i in range(NUM_CITIZENS)},
    "total_supply": 0,
    "daily": []
}

# ---------- POLICIES ----------
def civic_actions(p, step, sL, s):
    return {"actors": random.choices(list(s["citizens"]),
                                     k=random.randint(1, MAX_ACTIONS))}

# ---------- STATE UPDATES ----------
def su_points(p, step, sL, s, _in):
    base   = p["POINTS_BASE"]          # value from sweep
    decay  = 0.5 ** (step / HALF_LIFE_DAYS)
    cits   = s["citizens"].copy()
    supply = s["total_supply"]

    for cid in _in["actors"]:
        price  = A * supply + B
        reward = math.ceil(base / price * decay)
        if cits[cid]["pts"] > GOLD_THRESHOLD:       # gold bonus
            reward = math.ceil(reward * 1.20)
        cits[cid]["pts"] += reward
        supply += 1
    return "citizens", cits

def su_supply(p, step, sL, s, _in):
    return "total_supply", s["total_supply"] + len(_in["actors"])

def su_log(p, step, sL, s, _in):
    rec = {"day": step,
           "supply": s["total_supply"],
           "avg_pts": sum(c["pts"] for c in s["citizens"].values())/NUM_CITIZENS}
    log = s["daily"].copy(); log.append(rec)
    return "daily", log

psubs = [{
    "policies":  {"do": civic_actions},
    "variables": {"citizens": su_points,
                  "total_supply": su_supply,
                  "daily": su_log}
}]

# ---------- SIMULATION CONFIG (parameter sweep) ----------
sim_cfg = config_sim({
    "T": range(SIM_DAYS),
    "N": 1,                           # 1 Monte-Carlo per param-set
    "M": {                            # dict-of-lists  ✅
        "POINTS_BASE": [10, 20]
    }
})

config = Configuration(
    user_id="demo",
    model_id="ostromia",
    subset_id="sweep",
    subset_window=deque([0]),
    initial_state=initial_state,
    partial_state_update_blocks=psubs,
    sim_config=sim_cfg,
)

# ---------- EXECUTE ----------
ctx          = ExecutionContext(context=ExecutionMode().single_mode)
raw_results, _ = Executor(ctx, configs=[config]).execute()
df           = pd.DataFrame(raw_results)

# ---------- VISUALIZE ----------
plt.figure(figsize=(9,4))
for base, grp in df.groupby("POINTS_BASE"):
    log = pd.DataFrame(grp["daily"].iloc[-1])
    plt.plot(log["day"], log["supply"], label=f"base = {base}")
plt.title("Ostromia – Total Supply (parameter sweep)")
plt.xlabel("Day"); plt.ylabel("Tokens"); plt.grid(); plt.legend(); plt.show()

# ---------- QUICK TABLE ----------
print(df[["run","POINTS_BASE","day","total_supply","avg_pts"]].head(14))
